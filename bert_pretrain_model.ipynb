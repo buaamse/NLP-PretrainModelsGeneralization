{
 "cells": [
  {
   "cell_type": "code",
   "execution_count": 1,
   "metadata": {},
   "outputs": [
    {
     "name": "stderr",
     "output_type": "stream",
     "text": [
      "--2021-02-21 09:05:56--  https://huggingface.co/bert-base-chinese/blob/main/config.json\n",
      "Resolving huggingface.co (huggingface.co)... 34.201.172.85\n",
      "Connecting to huggingface.co (huggingface.co)|34.201.172.85|:443... connected.\n",
      "HTTP request sent, awaiting response... 200 OK\n",
      "Length: 42081 (41K) [text/html]\n",
      "Saving to: 'config.json'\n",
      "\n",
      "     0K .......... .......... .......... .......... .         100%  154K=0.3s\n",
      "\n",
      "2021-02-21 09:05:58 (154 KB/s) - 'config.json' saved [42081/42081]\n",
      "\n",
      "--2021-02-21 09:06:00--  https://huggingface.co/bert-base-chinese/blob/main/vocab.txt\n",
      "Resolving huggingface.co (huggingface.co)... 34.201.172.85\n",
      "Connecting to huggingface.co (huggingface.co)|34.201.172.85|:443... connected.\n",
      "HTTP request sent, awaiting response... 200 OK\n",
      "Length: 265029 (259K) [text/html]\n",
      "Saving to: 'vocab.txt'\n",
      "\n",
      "     0K .......... .......... .......... .......... .......... 19% 75.5K 3s\n",
      "    50K .......... .......... .......... .......... .......... 38%  186K 1s\n",
      "   100K .......... .......... .......... .......... .......... 57%  137K 1s\n",
      "   150K .......... .......... .......... .......... .......... 77%  272K 0s\n",
      "   200K .......... .......... .......... .......... .......... 96%  513K 0s\n",
      "   250K ........                                              100% 2.01M=1.6s\n",
      "\n",
      "2021-02-21 09:06:03 (164 KB/s) - 'vocab.txt' saved [265029/265029]\n",
      "\n",
      "--2021-02-21 09:06:04--  https://huggingface.co/bert-base-chinese/blob/main/pytorch_model.bin\n",
      "Resolving huggingface.co (huggingface.co)... 34.201.172.85\n",
      "Connecting to huggingface.co (huggingface.co)|34.201.172.85|:443... connected.\n",
      "HTTP request sent, awaiting response... 200 OK\n",
      "Length: 40713 (40K) [text/html]\n",
      "Saving to: 'pytorch_model.bin'\n",
      "\n",
      "     0K .......... .......... .......... .........            100%  149K=0.3s\n",
      "\n",
      "2021-02-21 09:06:06 (149 KB/s) - 'pytorch_model.bin' saved [40713/40713]\n",
      "\n"
     ]
    }
   ],
   "source": [
    "!wget https://huggingface.co/bert-base-chinese/blob/main/config.json\n",
    "!wget https://huggingface.co/bert-base-chinese/blob/main/vocab.txt\n",
    "!wget https://huggingface.co/bert-base-chinese/blob/main/pytorch_model.bin"
   ]
  },
  {
   "cell_type": "code",
   "execution_count": null,
   "metadata": {},
   "outputs": [],
   "source": []
  }
 ],
 "metadata": {
  "kernelspec": {
   "display_name": "Python 3",
   "language": "python",
   "name": "python3"
  },
  "language_info": {
   "codemirror_mode": {
    "name": "ipython",
    "version": 3
   },
   "file_extension": ".py",
   "mimetype": "text/x-python",
   "name": "python",
   "nbconvert_exporter": "python",
   "pygments_lexer": "ipython3",
   "version": "3.8.7"
  }
 },
 "nbformat": 4,
 "nbformat_minor": 4
}
